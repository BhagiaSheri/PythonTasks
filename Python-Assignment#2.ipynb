{
 "cells": [
  {
   "cell_type": "code",
   "execution_count": 11,
   "metadata": {},
   "outputs": [
    {
     "name": "stdout",
     "output_type": "stream",
     "text": [
      "Total Marks Are 500! All subjects carry 100 marks!!!\n",
      "Enter Marks in English: 89\n",
      "Enter Marks in Maths: 88\n",
      "Enter Marks in Physics: 93\n",
      "Enter Marks in Chemistry: 91\n",
      "Enter Marks in Computer Science: 90\n",
      "Total Marks Are:  451.0 . Percentage Is:  90.2 %\n",
      "Congratulations ! You have secured A Grade!\n"
     ]
    }
   ],
   "source": [
    "print(\"Total Marks Are 500! All subjects carry 100 marks!!!\")\n",
    "\n",
    "a=float(input(\"Enter Marks in English: \"))\n",
    "b=float(input(\"Enter Marks in Maths: \"))\n",
    "c=float(input(\"Enter Marks in Physics: \" ))\n",
    "d=float(input(\"Enter Marks in Chemistry: \"))\n",
    "e=float(input(\"Enter Marks in Computer Science: \"))\n",
    "\n",
    "# calculating total marks.\n",
    "total_marks=a+b+c+d+e\n",
    "\n",
    "# calculating percentage.\n",
    "avg=((a+b+c+d+e)/500)*100\n",
    "              \n",
    "if(avg>=85): \n",
    "    print(\"Total Marks Are: \",total_marks,\". Percentage Is: \",avg,\"%\")\n",
    "    print(\"Congratulations ! You have secured A Grade!\")\n",
    "elif(avg>=75 and avg<85):\n",
    "    print(\"Total Marks Are: \",total_marks,\". Percentage Is: \",avg,\"%\")\n",
    "    print(\"Congratulations ! You have secured B Grade!\")\n",
    "elif(avg>=70 and avg<75):\n",
    "    print(\"Total Marks Are: \",total_marks,\". Percentage Is: \",avg,\"%\")\n",
    "    print(\"Congratulations ! You have secured C Grade!\")\n",
    "elif(avg>=60 and avg<70):\n",
    "    print(\"Total Marks Are: \",total_marks,\". Percentage Is: \",avg,\"%\")\n",
    "    print(\"Congratulations ! You have secured D Grade!\")\n",
    "elif (avg>=50 and avg<60):\n",
    "    print(\"Total Marks Are: \",total_marks,\". Percentage Is: \",avg,\"%\")\n",
    "    print(\"Congratulations ! You have secured E Grade!\")\n",
    "elif (avg<50):\n",
    "    print( \"You are FAIL!\")"
   ]
  },
  {
   "cell_type": "code",
   "execution_count": 21,
   "metadata": {},
   "outputs": [
    {
     "name": "stdout",
     "output_type": "stream",
     "text": [
      "Enter The Number: 29678\n",
      "29678  is a Even Number.\n"
     ]
    }
   ],
   "source": [
    "a=int(input(\"Enter The Number: \"))\n",
    "\n",
    "if(a%2==0):\n",
    "    print(a,\" is a Even Number.\")\n",
    "else:\n",
    "    print(a,\" is a Odd Number.\")\n",
    "\n"
   ]
  },
  {
   "cell_type": "code",
   "execution_count": 24,
   "metadata": {},
   "outputs": [
    {
     "name": "stdout",
     "output_type": "stream",
     "text": [
      "The Lenght Of List Is:  9\n"
     ]
    }
   ],
   "source": [
    "list = [1, 2, 3, 1, 2, 3, \"bhagia\", \"Sheri\", 22.7]\n",
    "\n",
    "# printing Length of list.\n",
    "print(\"The Lenght Of List Is: \",len(list))"
   ]
  },
  {
   "cell_type": "code",
   "execution_count": 27,
   "metadata": {},
   "outputs": [
    {
     "name": "stdout",
     "output_type": "stream",
     "text": [
      "Sum of all elements in given list is:  77\n"
     ]
    }
   ],
   "source": [
    "sum=0\n",
    "\n",
    "list = [13, 5, 21, 18, 20] \n",
    "\n",
    "# Iterate each element in list and add them.\n",
    "for item in range(0, len(list)): \n",
    "    sum = sum + list[item] \n",
    "\n",
    "# printing total value \n",
    "print(\"Sum of all elements in given list is: \", sum) \n"
   ]
  },
  {
   "cell_type": "code",
   "execution_count": 29,
   "metadata": {},
   "outputs": [
    {
     "name": "stdout",
     "output_type": "stream",
     "text": [
      "The Largest Element From List Is:  120\n"
     ]
    }
   ],
   "source": [
    "list = [13, 5, 21, 18, 120, 90, 23, 11, 2] \n",
    "\n",
    "# printing Largest Element From List.\n",
    "print(\"The Largest Element From List Is: \",max(list))"
   ]
  },
  {
   "cell_type": "code",
   "execution_count": 32,
   "metadata": {},
   "outputs": [
    {
     "name": "stdout",
     "output_type": "stream",
     "text": [
      "Elements Less Then 5 From The List Are:\n",
      "1\n",
      "1\n",
      "2\n",
      "3\n"
     ]
    }
   ],
   "source": [
    "#Print Elements Which Are Less 5!\n",
    "a = [1, 1, 2, 3, 5, 8, 13, 21, 34, 55, 89]\n",
    "\n",
    "print(\"Elements Less Then 5 From The List Are:\")\n",
    "\n",
    "#Traverse Elements Using For Loop, then apply if-condition.\n",
    "for item in a:\n",
    "    if(item<5):\n",
    "        # printing Elements Which Are Less than 5.\n",
    "        print(item)\n",
    "\n"
   ]
  },
  {
   "cell_type": "code",
   "execution_count": null,
   "metadata": {},
   "outputs": [],
   "source": []
  }
 ],
 "metadata": {
  "kernelspec": {
   "display_name": "Python 3",
   "language": "python",
   "name": "python3"
  },
  "language_info": {
   "codemirror_mode": {
    "name": "ipython",
    "version": 3
   },
   "file_extension": ".py",
   "mimetype": "text/x-python",
   "name": "python",
   "nbconvert_exporter": "python",
   "pygments_lexer": "ipython3",
   "version": "3.7.0"
  }
 },
 "nbformat": 4,
 "nbformat_minor": 2
}
