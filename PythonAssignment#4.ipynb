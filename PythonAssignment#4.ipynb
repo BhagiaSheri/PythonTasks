{
 "cells": [
  {
   "cell_type": "code",
   "execution_count": 1,
   "metadata": {},
   "outputs": [
    {
     "name": "stdout",
     "output_type": "stream",
     "text": [
      "Bhagia\n",
      "Sheri\n",
      "21\n",
      "Hyderabad\n"
     ]
    }
   ],
   "source": [
    "# create a dictionary\n",
    "person = {\n",
    "    'first_name': 'Bhagia',\n",
    "    'last_name': 'Sheri',\n",
    "    'age': 21,\n",
    "    'city': 'Hyderabad',\n",
    "    }\n",
    "\n",
    "print(person['first_name'])\n",
    "print(person['last_name'])\n",
    "print(person['age'])\n",
    "print(person['city'])\n",
    "\n",
    "# Add a qualification key value pair\n",
    "person['Qualification']='B.E in Software Engineering'\n",
    "\n",
    "# Update the qualification value\n",
    "person['Qualification']='Masters In SWE'\n",
    "\n",
    "# Delete the qualification key value pair\n",
    "del person[\"Qualification\"]"
   ]
  },
  {
   "cell_type": "code",
   "execution_count": 2,
   "metadata": {},
   "outputs": [
    {
     "name": "stdout",
     "output_type": "stream",
     "text": [
      "\n",
      "Santiago is in theChile.\n",
      "  It has a population of about 6158080.\n",
      "  The Andes mountains are nearby.\n",
      "\n",
      "Talkeetna is in theAlaska.\n",
      "  It has a population of about 876.\n",
      "  The Alaska Range mountains are nearby.\n",
      "\n",
      "Kathmandu is in theNepal.\n",
      "  It has a population of about 1003285.\n",
      "  The Himilaya mountains are nearby.\n"
     ]
    }
   ],
   "source": [
    "# create a dictionary\n",
    "cities = {\n",
    "    'santiago': {\n",
    "        'country': 'chile',\n",
    "        'population': 6158080,\n",
    "        'nearby mountains': 'andes',\n",
    "        },\n",
    "    'talkeetna': {\n",
    "        'country': 'alaska',\n",
    "        'population': 876,\n",
    "        'nearby mountains': 'alaska range',\n",
    "        },\n",
    "    'kathmandu': {\n",
    "        'country': 'nepal',\n",
    "        'population': 1003285,\n",
    "        'nearby mountains': 'himilaya',\n",
    "        }\n",
    "    }\n",
    "\n",
    "# printing the dictionary data using loop\n",
    "for city, city_info in cities.items():\n",
    "    country = city_info['country'].title()\n",
    "    population = city_info['population']\n",
    "    mountains = city_info['nearby mountains'].title()\n",
    "\n",
    "    print(\"\\n\" + city.title() + \" is in the\" + country + \".\")\n",
    "    print(\"  It has a population of about \" + str(population) + \".\")\n",
    "    print(\"  The \" + mountains + \" mountains are nearby.\")"
   ]
  },
  {
   "cell_type": "code",
   "execution_count": 3,
   "metadata": {},
   "outputs": [
    {
     "name": "stdout",
     "output_type": "stream",
     "text": [
      "How old are you?\n",
      "Enter 'quit' when you are finished. 5\n",
      "  Your ticket is $10.\n",
      "How old are you?\n",
      "Enter 'quit' when you are finished. 21\n",
      "  Your ticket is $15.\n",
      "How old are you?\n",
      "Enter 'quit' when you are finished. 2\n",
      "  You get in free!\n",
      "How old are you?\n",
      "Enter 'quit' when you are finished. quit\n"
     ]
    }
   ],
   "source": [
    "prompt = \"How old are you?\"\n",
    "prompt += \"\\nEnter 'quit' when you are finished. \"\n",
    "\n",
    "while True:\n",
    "    age = input(prompt)\n",
    "    if age == 'quit':\n",
    "        break\n",
    "    age = int(age)\n",
    "\n",
    "    if age < 3:\n",
    "        print(\"  You get in free!\")\n",
    "    elif age < 13:\n",
    "        print(\"  Your ticket is $10.\")\n",
    "    else:\n",
    "        print(\"  Your ticket is $15.\")"
   ]
  },
  {
   "cell_type": "code",
   "execution_count": 4,
   "metadata": {},
   "outputs": [
    {
     "name": "stdout",
     "output_type": "stream",
     "text": [
      "Fault And Stars is one of my favorite books.\n"
     ]
    }
   ],
   "source": [
    "def favorite_book(title):\n",
    "    # Display a message about someone's favorite book.\n",
    "    print(title + \" is one of my favorite books.\")\n",
    "\n",
    "favorite_book('Fault And Stars')"
   ]
  },
  {
   "cell_type": "code",
   "execution_count": 5,
   "metadata": {},
   "outputs": [
    {
     "name": "stdout",
     "output_type": "stream",
     "text": [
      "Guess a number between 1 to 30: 21\n",
      "Hint: Secret Number Is Smaller!\n",
      "Guess a number between 1 to 30: 7\n",
      "Hint: Secret Number Is Higher!\n",
      "Guess a number between 1 to 30: 10\n",
      "Hint: Secret Number Is Higher!\n"
     ]
    }
   ],
   "source": [
    "import random\n",
    "\n",
    "#secret number condition\n",
    "secret_number = random.randint(1, 31)\n",
    "\n",
    "tries, guess = 1, 0\n",
    "\n",
    "while tries<=3:\n",
    "    guess = int(input(\"Guess a number between 1 to 30: \"))\n",
    "    if guess > secret_number:\n",
    "        print(\"Hint: Secret Number Is Smaller!\")\n",
    "    elif guess < secret_number:\n",
    "        print(\"Hint: Secret Number Is Higher!\")\n",
    "    else:\n",
    "        print('You guessed it! The number was {} in {} tries!'.format(guess, tries))\n",
    "        break\n",
    "    tries += 1"
   ]
  }
 ],
 "metadata": {
  "kernelspec": {
   "display_name": "Python 3",
   "language": "python",
   "name": "python3"
  },
  "language_info": {
   "codemirror_mode": {
    "name": "ipython",
    "version": 3
   },
   "file_extension": ".py",
   "mimetype": "text/x-python",
   "name": "python",
   "nbconvert_exporter": "python",
   "pygments_lexer": "ipython3",
   "version": "3.7.0"
  }
 },
 "nbformat": 4,
 "nbformat_minor": 2
}
